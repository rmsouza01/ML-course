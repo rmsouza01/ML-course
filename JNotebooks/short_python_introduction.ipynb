{
 "cells": [
  {
   "cell_type": "markdown",
   "metadata": {},
   "source": [
    "# Quick Python Introduction"
   ]
  },
  {
   "cell_type": "markdown",
   "metadata": {},
   "source": [
    "## Getting help"
   ]
  },
  {
   "cell_type": "code",
   "execution_count": null,
   "metadata": {},
   "outputs": [],
   "source": [
    "help(type)"
   ]
  },
  {
   "cell_type": "markdown",
   "metadata": {},
   "source": [
    "## Scalar variables\n",
    "\n",
    "- Declaring integer, boolean, floating point and complex variables and doing some simple operations."
   ]
  },
  {
   "cell_type": "code",
   "execution_count": null,
   "metadata": {},
   "outputs": [],
   "source": [
    "a = 7\n",
    "print(type(a))\n",
    "\n",
    "b = 3.14\n",
    "print(type(b))\n",
    "\n",
    "c = 3 + 4j\n",
    "print(type(c))\n",
    "\n",
    "d = False\n",
    "print(type(d))"
   ]
  },
  {
   "cell_type": "markdown",
   "metadata": {},
   "source": [
    "- Basic math operations"
   ]
  },
  {
   "cell_type": "code",
   "execution_count": null,
   "metadata": {},
   "outputs": [],
   "source": [
    "print(a + b)  \n",
    "print(b * c) \n",
    "print(a / 4)\n",
    "print(a // 4) # Integer division"
   ]
  },
  {
   "cell_type": "markdown",
   "metadata": {},
   "source": [
    "Python converts the variables to a suitable type according to the following hierarchy: **complex > floating point > integer**. Integer division will result in a float.\n",
    "\n",
    "## Sequential types\n",
    "\n",
    "Python has three main sequential types: lists, tuples and strings.\n",
    "\n",
    "### Strings\n",
    "\n",
    "Strings can be declared both using single quotation (') and double quotation (\"). Strings are immutable vectors of characters. The size of a string can be computed using the command *len*."
   ]
  },
  {
   "cell_type": "code",
   "execution_count": null,
   "metadata": {},
   "outputs": [],
   "source": [
    "name1 = 'Roberto' # Single quoation\n",
    "print('Type:', type(name1), '\\nName1:', name1, '\\nLength:', len(name1))"
   ]
  },
  {
   "cell_type": "markdown",
   "metadata": {},
   "source": [
    "### Lists\n",
    "\n",
    "A list is a sequence of elements that may be of different types. The elements can be indexed, altered, and operations can be performed on them. Lists are defined by [ ] and the elements are separated by commas."
   ]
  },
  {
   "cell_type": "code",
   "execution_count": null,
   "metadata": {},
   "outputs": [],
   "source": [
    "my_list = [1, 1.1,3+4j, 'one',[\"another\",\"list\"]] # defining a list\n",
    "\n",
    "print(type(my_list)) \n",
    "print(len(my_list)) # The \"len\" function returns the number of elements in the list\n",
    "print(my_list[0])\n",
    "print(my_list[-1]) # Negative indexing gets you the eleemnts from last to first\n",
    "my_list[0] = 10\n",
    "print(my_list[0])"
   ]
  },
  {
   "cell_type": "markdown",
   "metadata": {},
   "source": [
    "## Tuple \n",
    "\n",
    "Tuple are just like lists but immutable."
   ]
  },
  {
   "cell_type": "code",
   "execution_count": null,
   "metadata": {},
   "outputs": [],
   "source": [
    "my_tuple = (\"Roberto\",30)\n",
    "print(type(my_tuple))\n",
    "my_tuple[1] = 31"
   ]
  },
  {
   "cell_type": "markdown",
   "metadata": {},
   "source": [
    "## Flow Control Statements\n",
    "\n",
    "### if/else statement"
   ]
  },
  {
   "cell_type": "code",
   "execution_count": null,
   "metadata": {},
   "outputs": [],
   "source": [
    "# The last print command writes to the output \n",
    "# independently of the value of x\n",
    "x = +1\n",
    "if x<0:\n",
    "   print('x is smaller than zero!')\n",
    "   print(\"x = %d\" %x)\n",
    "elif x==0:\n",
    "   print('x is equal to zero')\n",
    "else:\n",
    "   print ('x is greater than zero!')\n",
    "print ('This sentence is written regardless of the value of x')"
   ]
  },
  {
   "cell_type": "markdown",
   "metadata": {},
   "source": [
    "## for loop"
   ]
  },
  {
   "cell_type": "code",
   "execution_count": null,
   "metadata": {},
   "outputs": [],
   "source": [
    "for element in my_list:\n",
    "    print(element)\n",
    "    print(type(element))\n",
    "    print()"
   ]
  }
 ],
 "metadata": {
  "kernelspec": {
   "display_name": "Python 3",
   "language": "python",
   "name": "python3"
  },
  "language_info": {
   "codemirror_mode": {
    "name": "ipython",
    "version": 3
   },
   "file_extension": ".py",
   "mimetype": "text/x-python",
   "name": "python",
   "nbconvert_exporter": "python",
   "pygments_lexer": "ipython3",
   "version": "3.6.9"
  }
 },
 "nbformat": 4,
 "nbformat_minor": 4
}
