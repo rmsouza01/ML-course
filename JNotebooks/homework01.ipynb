{
 "cells": [
  {
   "cell_type": "markdown",
   "metadata": {},
   "source": [
    "# Homework\n",
    "\n",
    "Write a function that receives as input a 2D boolean NumPy array and outputs the coordinates of the minimal bounding-box that encloses all non-zero elements in the input array. Try to make your code clear and with fast execution.\n",
    "\n",
    "![../Figures/bbox.png](../Figures/bbox.png)\n",
    "\n",
    "**Learning goals**:\n",
    "- Learn to define NumPy functions\n",
    "- Development of efficient NumPy array processing skills\n",
    "- Getting familiarity with NumPy functions\n",
    "    \n",
    "**Tip:** search for the function nonzero in the NumPy documentation.\n",
    "\n",
    "**Rules:**\n",
    "- All solutions will be visible to all students from initial development to the final code;\n",
    "- If you got your implementation idea from someone else, give credit to that person;\n",
    "- If you have a suggestion to improve a friend’s code, leave a suggestion."
   ]
  },
  {
   "cell_type": "markdown",
   "metadata": {},
   "source": [
    "##  Template Function"
   ]
  },
  {
   "cell_type": "code",
   "execution_count": 1,
   "metadata": {},
   "outputs": [],
   "source": [
    "import numpy as np\n",
    "\n",
    "def bbox_loop(bool_img):\n",
    "    \"\"\"\n",
    "    Input: 2D boolean NumPy array\n",
    "    Output: r1, c1, r2, c2 -> coordinates of the minimal bounding-box that encloses all non-zero elements in the input array\n",
    "            r1 -> minimum row\n",
    "            c1 -> minimum column\n",
    "            r2 -> maximum row\n",
    "            c2 -> maximum columns\n",
    "    \"\"\"\n",
    "    ## Tis is a slow loop-based solution\n",
    "    r1,c1 = bool_img.shape\n",
    "    r2,c2 = 0,0\n",
    "    for row in range(bool_img.shape[0]):\n",
    "        for column in range(bool_img.shape[1]):\n",
    "            if bool_img[row,column]!= 0:\n",
    "                if row < r1:\n",
    "                    r1 = row\n",
    "                if column < c1:\n",
    "                    c1 = column\n",
    "                if r2 < row:\n",
    "                    r2 = row\n",
    "                if c2 < column:\n",
    "                    c2 = column\n",
    "    # Remember the last index is not incldued in the slicing so we have to add 1            \n",
    "    r2+=1 \n",
    "    c2+=1\n",
    "    return r1,c1,r2,c2\n",
    "\n",
    "def my_bbox(bool_img):\n",
    "    \"\"\"\n",
    "    Input: 2D boolean NumPy array\n",
    "    Output: r1, c1, r2, c2 -> coordinates of the minimal bounding-box that encloses all non-zero elements in the input array\n",
    "            r1 -> minimum row\n",
    "            c1 -> minimum column\n",
    "            r2 -> maximum row\n",
    "            c2 -> maximum columns\n",
    "    \"\"\"\n",
    "\n",
    "    # Write your function below\n",
    "    r1,c1 = 0,0\n",
    "    r2,c2 = bool_img.shape\n",
    "    \n",
    "    return r1,c1,r2,c2\n",
    "    \n",
    "    "
   ]
  },
  {
   "cell_type": "markdown",
   "metadata": {},
   "source": [
    "## Test Cases\n",
    "\n",
    "### Test 01 - small triangle"
   ]
  },
  {
   "cell_type": "code",
   "execution_count": 2,
   "metadata": {},
   "outputs": [
    {
     "name": "stdout",
     "output_type": "stream",
     "text": [
      "[[0 0 0 0 0 0 0 0 0 0]\n",
      " [0 0 0 0 0 0 0 0 0 0]\n",
      " [0 0 0 0 0 1 0 0 0 0]\n",
      " [0 0 0 0 0 0 0 0 0 0]\n",
      " [0 0 0 0 0 0 0 0 0 0]\n",
      " [0 0 0 0 0 0 0 0 0 0]\n",
      " [0 0 0 0 0 0 0 0 0 0]\n",
      " [0 0 0 0 0 0 0 0 0 0]\n",
      " [0 0 0 1 0 0 0 1 0 0]\n",
      " [0 0 0 0 0 0 0 0 0 0]]\n"
     ]
    }
   ],
   "source": [
    "# Triangle test case\n",
    "test01 = np.zeros((10,10),dtype = bool)\n",
    "test01[2,5] = True\n",
    "test01[8,3] = True\n",
    "test01[8,7] = True\n",
    "print(test01.astype(int))"
   ]
  },
  {
   "cell_type": "code",
   "execution_count": 3,
   "metadata": {},
   "outputs": [
    {
     "name": "stdout",
     "output_type": "stream",
     "text": [
      "(2, 3, 9, 8)\n",
      "(0, 0, 10, 10)\n"
     ]
    }
   ],
   "source": [
    "print(bbox_loop(test01))\n",
    "print(my_bbox(test01))"
   ]
  },
  {
   "cell_type": "markdown",
   "metadata": {},
   "source": [
    "## Test 02  - small square in a small image"
   ]
  },
  {
   "cell_type": "code",
   "execution_count": 4,
   "metadata": {},
   "outputs": [],
   "source": [
    "test02 = np.zeros((25,25),dtype = bool)\n",
    "test02[7:17,7:17] = True"
   ]
  },
  {
   "cell_type": "code",
   "execution_count": 5,
   "metadata": {},
   "outputs": [
    {
     "name": "stdout",
     "output_type": "stream",
     "text": [
      "(7, 7, 17, 17)\n",
      "(0, 0, 25, 25)\n"
     ]
    }
   ],
   "source": [
    "print(bbox_loop(test02))\n",
    "print(my_bbox(test02))"
   ]
  },
  {
   "cell_type": "markdown",
   "metadata": {},
   "source": [
    "## Test 03 - large square in a large image "
   ]
  },
  {
   "cell_type": "code",
   "execution_count": 6,
   "metadata": {},
   "outputs": [],
   "source": [
    "test03 = np.zeros((256,256),dtype = bool)\n",
    "test03[64:192,64:192] = True"
   ]
  },
  {
   "cell_type": "code",
   "execution_count": 7,
   "metadata": {},
   "outputs": [
    {
     "name": "stdout",
     "output_type": "stream",
     "text": [
      "72 ms ± 4.34 ms per loop (mean ± std. dev. of 7 runs, 10 loops each)\n"
     ]
    }
   ],
   "source": [
    "%timeit bbox_loop(test03)"
   ]
  },
  {
   "cell_type": "code",
   "execution_count": 8,
   "metadata": {},
   "outputs": [
    {
     "name": "stdout",
     "output_type": "stream",
     "text": [
      "139 ns ± 4.68 ns per loop (mean ± std. dev. of 7 runs, 10000000 loops each)\n"
     ]
    }
   ],
   "source": [
    "%timeit my_bbox(test03)"
   ]
  }
 ],
 "metadata": {
  "kernelspec": {
   "display_name": "Python 3",
   "language": "python",
   "name": "python3"
  },
  "language_info": {
   "codemirror_mode": {
    "name": "ipython",
    "version": 3
   },
   "file_extension": ".py",
   "mimetype": "text/x-python",
   "name": "python",
   "nbconvert_exporter": "python",
   "pygments_lexer": "ipython3",
   "version": "3.6.9"
  }
 },
 "nbformat": 4,
 "nbformat_minor": 4
}
